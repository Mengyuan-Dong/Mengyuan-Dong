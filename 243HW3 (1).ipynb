{
 "cells": [
  {
   "cell_type": "code",
   "execution_count": null,
   "metadata": {},
   "outputs": [],
   "source": [
    "# For this skeleton, you need to install torchtext, and optionally spacy. \n",
    "# It also uses pretrained word embeddings from glove.6B.100d which is around 850 MB. You can skip using it if you don't have enough \n",
    "# memory to work with. But training will be faster if you use it."
   ]
  },
  {
   "cell_type": "code",
   "execution_count": 183,
   "metadata": {},
   "outputs": [],
   "source": [
    "from torchtext import data\n",
    "from torchtext import datasets\n",
    "import torch\n",
    "import torch.nn as nn\n",
    "import torch.optim as optim\n",
    "import time\n",
    "import pandas as pd\n",
    "import spacy\n",
    "import re\n",
    "import matplotlib.pyplot as plt\n",
    "import numpy as np\n",
    "import pickle"
   ]
  },
  {
   "cell_type": "code",
   "execution_count": 69,
   "metadata": {},
   "outputs": [
    {
     "name": "stdout",
     "output_type": "stream",
     "text": [
      "Requirement already satisfied: en_core_web_sm==2.3.1 from https://github.com/explosion/spacy-models/releases/download/en_core_web_sm-2.3.1/en_core_web_sm-2.3.1.tar.gz#egg=en_core_web_sm==2.3.1 in /Users/dmy/opt/anaconda3/envs/pytorch_p37/lib/python3.7/site-packages (2.3.1)\n",
      "Requirement already satisfied: spacy<2.4.0,>=2.3.0 in /Users/dmy/opt/anaconda3/envs/pytorch_p37/lib/python3.7/site-packages (from en_core_web_sm==2.3.1) (2.3.2)\n",
      "Requirement already satisfied: wasabi<1.1.0,>=0.4.0 in /Users/dmy/opt/anaconda3/envs/pytorch_p37/lib/python3.7/site-packages (from spacy<2.4.0,>=2.3.0->en_core_web_sm==2.3.1) (0.8.0)\n",
      "Requirement already satisfied: thinc==7.4.1 in /Users/dmy/opt/anaconda3/envs/pytorch_p37/lib/python3.7/site-packages (from spacy<2.4.0,>=2.3.0->en_core_web_sm==2.3.1) (7.4.1)\n",
      "Requirement already satisfied: preshed<3.1.0,>=3.0.2 in /Users/dmy/opt/anaconda3/envs/pytorch_p37/lib/python3.7/site-packages (from spacy<2.4.0,>=2.3.0->en_core_web_sm==2.3.1) (3.0.2)\n",
      "Requirement already satisfied: plac<1.2.0,>=0.9.6 in /Users/dmy/opt/anaconda3/envs/pytorch_p37/lib/python3.7/site-packages (from spacy<2.4.0,>=2.3.0->en_core_web_sm==2.3.1) (0.9.6)\n",
      "Requirement already satisfied: setuptools in /Users/dmy/opt/anaconda3/envs/pytorch_p37/lib/python3.7/site-packages (from spacy<2.4.0,>=2.3.0->en_core_web_sm==2.3.1) (50.3.1.post20201107)\n",
      "Requirement already satisfied: requests<3.0.0,>=2.13.0 in /Users/dmy/opt/anaconda3/envs/pytorch_p37/lib/python3.7/site-packages (from spacy<2.4.0,>=2.3.0->en_core_web_sm==2.3.1) (2.24.0)\n",
      "Requirement already satisfied: tqdm<5.0.0,>=4.38.0 in /Users/dmy/opt/anaconda3/envs/pytorch_p37/lib/python3.7/site-packages (from spacy<2.4.0,>=2.3.0->en_core_web_sm==2.3.1) (4.51.0)\n",
      "Requirement already satisfied: cymem<2.1.0,>=2.0.2 in /Users/dmy/opt/anaconda3/envs/pytorch_p37/lib/python3.7/site-packages (from spacy<2.4.0,>=2.3.0->en_core_web_sm==2.3.1) (2.0.4)\n",
      "Requirement already satisfied: blis<0.5.0,>=0.4.0 in /Users/dmy/opt/anaconda3/envs/pytorch_p37/lib/python3.7/site-packages (from spacy<2.4.0,>=2.3.0->en_core_web_sm==2.3.1) (0.4.1)\n",
      "Requirement already satisfied: numpy>=1.15.0 in /Users/dmy/opt/anaconda3/envs/pytorch_p37/lib/python3.7/site-packages (from spacy<2.4.0,>=2.3.0->en_core_web_sm==2.3.1) (1.19.2)\n",
      "Requirement already satisfied: srsly<1.1.0,>=1.0.2 in /Users/dmy/opt/anaconda3/envs/pytorch_p37/lib/python3.7/site-packages (from spacy<2.4.0,>=2.3.0->en_core_web_sm==2.3.1) (1.0.2)\n",
      "Requirement already satisfied: murmurhash<1.1.0,>=0.28.0 in /Users/dmy/opt/anaconda3/envs/pytorch_p37/lib/python3.7/site-packages (from spacy<2.4.0,>=2.3.0->en_core_web_sm==2.3.1) (1.0.2)\n",
      "Requirement already satisfied: catalogue<1.1.0,>=0.0.7 in /Users/dmy/opt/anaconda3/envs/pytorch_p37/lib/python3.7/site-packages (from spacy<2.4.0,>=2.3.0->en_core_web_sm==2.3.1) (1.0.0)\n",
      "Requirement already satisfied: urllib3!=1.25.0,!=1.25.1,<1.26,>=1.21.1 in /Users/dmy/opt/anaconda3/envs/pytorch_p37/lib/python3.7/site-packages (from requests<3.0.0,>=2.13.0->spacy<2.4.0,>=2.3.0->en_core_web_sm==2.3.1) (1.25.11)\n",
      "Requirement already satisfied: idna<3,>=2.5 in /Users/dmy/opt/anaconda3/envs/pytorch_p37/lib/python3.7/site-packages (from requests<3.0.0,>=2.13.0->spacy<2.4.0,>=2.3.0->en_core_web_sm==2.3.1) (2.10)\n",
      "Requirement already satisfied: chardet<4,>=3.0.2 in /Users/dmy/opt/anaconda3/envs/pytorch_p37/lib/python3.7/site-packages (from requests<3.0.0,>=2.13.0->spacy<2.4.0,>=2.3.0->en_core_web_sm==2.3.1) (3.0.4)\n",
      "Requirement already satisfied: certifi>=2017.4.17 in /Users/dmy/opt/anaconda3/envs/pytorch_p37/lib/python3.7/site-packages (from requests<3.0.0,>=2.13.0->spacy<2.4.0,>=2.3.0->en_core_web_sm==2.3.1) (2020.11.8)\n",
      "Requirement already satisfied: importlib-metadata>=0.20; python_version < \"3.8\" in /Users/dmy/opt/anaconda3/envs/pytorch_p37/lib/python3.7/site-packages (from catalogue<1.1.0,>=0.0.7->spacy<2.4.0,>=2.3.0->en_core_web_sm==2.3.1) (2.0.0)\n",
      "Requirement already satisfied: zipp>=0.5 in /Users/dmy/opt/anaconda3/envs/pytorch_p37/lib/python3.7/site-packages (from importlib-metadata>=0.20; python_version < \"3.8\"->catalogue<1.1.0,>=0.0.7->spacy<2.4.0,>=2.3.0->en_core_web_sm==2.3.1) (3.4.0)\n",
      "\u001b[38;5;2m✔ Download and installation successful\u001b[0m\n",
      "You can now load the model via spacy.load('en_core_web_sm')\n"
     ]
    }
   ],
   "source": [
    "#### Section 1: Spacy (optional) ###\n",
    "# Uncomment this lines if you are using spacy\n",
    "nlp = spacy.load('en_core_web_sm')\n",
    "prefix_re = spacy.util.compile_prefix_regex(nlp.Defaults.prefixes)\n",
    "suffix_re = spacy.util.compile_suffix_regex(nlp.Defaults.suffixes)\n",
    "infix_re = re.compile(r'''[-~]''')\n",
    "!python -m spacy download en_core_web_sm\n",
    "nlp = spacy.load('en_core_web_sm')"
   ]
  },
  {
   "cell_type": "code",
   "execution_count": 70,
   "metadata": {},
   "outputs": [],
   "source": [
    "SEED = 1234\n",
    "torch.manual_seed(SEED)\n",
    "torch.backends.cudnn.deterministic = True"
   ]
  },
  {
   "cell_type": "code",
   "execution_count": 71,
   "metadata": {},
   "outputs": [],
   "source": [
    "#### Section 2: Tokenizer ###\n",
    "# create a tokenizer function\n",
    "def tokenizer(text): \n",
    "    # return a list of words. You may skip the stop words defined by spacy or nltk lib\n",
    "    doc = nlp(text)\n",
    "    result = []\n",
    "    for token in doc:\n",
    "        ent = nlp.vocab[token.text]\n",
    "        if ent.is_stop == False:\n",
    "            result.append(token.text)\n",
    "    return result"
   ]
  },
  {
   "cell_type": "code",
   "execution_count": 72,
   "metadata": {},
   "outputs": [],
   "source": [
    "def tokenizer(text):\n",
    "    my_doc = nlp(text)\n",
    "    token_list = []\n",
    "    for token in my_doc:\n",
    "        token_list.append(token.text)\n",
    "    filtered_sentence = []\n",
    "    for word in token_list:\n",
    "        lexeme = nlp.vocab[word]\n",
    "        if lexeme.is_stop == False:\n",
    "            filtered_sentence.append(word)\n",
    "    return filtered_sentence"
   ]
  },
  {
   "cell_type": "code",
   "execution_count": 73,
   "metadata": {},
   "outputs": [],
   "source": [
    "TEXT = data.Field(tokenize = tokenizer, lower=True, include_lengths = True)\n",
    "LABEL = data.LabelField(dtype = torch.long)\n",
    "fields = {'reviewText': ('t', TEXT), 'sentiment': ('l', LABEL)}"
   ]
  },
  {
   "cell_type": "code",
   "execution_count": 107,
   "metadata": {},
   "outputs": [],
   "source": [
    "#### Section 3: Datasets ###\n",
    "# while you experiment, use the small datasets. Final training and evaluation needs to be done with large datasets. \n",
    "#suffix = 'small-'\n",
    "suffix = 'large-'\n",
    "dataFolder = '/Users/dmy/Downloads' # keep all your data files in a single folder\n",
    "\n",
    "train_data, valid_data, test_data = data.TabularDataset.splits(\n",
    "                                        path = dataFolder, \n",
    "                                        train = suffix + 'clean-train.json', # json file\n",
    "                                        validation = suffix + 'clean-val.json',# json file\n",
    "                                        test = suffix + 'clean-val.json',# json file\n",
    "                                        format = 'json', # json file\n",
    "                                        fields = fields\n",
    ")"
   ]
  },
  {
   "cell_type": "code",
   "execution_count": 108,
   "metadata": {},
   "outputs": [
    {
     "name": "stdout",
     "output_type": "stream",
     "text": [
      "Number of training examples: 53760\n",
      "Number of testing examples: 30240\n",
      "{'t': ['koi', 'scrub', 'pants', 'fit', 'better', '.'], 'l': 'bad'}\n"
     ]
    }
   ],
   "source": [
    "#### Section 4: Vocabulary ###\n",
    "\n",
    "# You can use GloVe vocabulary to train your model faster towards convergence or build up your own embeddings. \n",
    "# If you are not using the GloVe embeddings, you will need to comment out the embedding weight transfer to model in \n",
    "# Section 9\n",
    "\n",
    "MAX_VOCAB_SIZE = 25_000\n",
    "\n",
    "#Local vocabulary\n",
    "# TEXT.build_vocab(train_data, max_size = MAX_VOCAB_SIZE)\n",
    "# LABEL.build_vocab(train_data)\n",
    "\n",
    "#GloVe vocabulary\n",
    "TEXT.build_vocab(train_data, \n",
    "                 max_size = MAX_VOCAB_SIZE, \n",
    "                 vectors = \"glove.6B.100d\", \n",
    "                 unk_init = torch.Tensor.normal_)\n",
    "LABEL.build_vocab(train_data)\n",
    "\n",
    "# Check if it worked\n",
    "print(f'Number of training examples: {len(train_data)}')\n",
    "print(f'Number of testing examples: {len(test_data)}')\n",
    "print(vars(train_data[0]))"
   ]
  },
  {
   "cell_type": "code",
   "execution_count": 109,
   "metadata": {},
   "outputs": [],
   "source": [
    "#### Section 5: Iterators ###\n",
    "# Iterators organizes datasets into batches and feeds them into the model. In this skeletion, we use packed padded sequence\n",
    "# to make sure that all the input data points are of the same size and they do not incur unnecessary computation. Read more \n",
    "# about packed padded sequence here: https://stackoverflow.com/questions/51030782/why-do-we-pack-the-sequences-in-pytorch\n",
    "# For that, we need to sort the samples in each batch in decreasing order of number of words.\n",
    "\n",
    "BATCH_SIZE = 32\n",
    "\n",
    "device = torch.device('cuda' if torch.cuda.is_available() else 'cpu')\n",
    "\n",
    "train_iterator, valid_iterator, test_iterator = data.BucketIterator.splits(\n",
    "    (train_data, valid_data, test_data), \n",
    "    sort = False, \n",
    "    batch_size = BATCH_SIZE,\n",
    "    sort_within_batch = True,\n",
    "    sort_key = lambda x: len(x.t),\n",
    "    device = device)"
   ]
  },
  {
   "cell_type": "code",
   "execution_count": 110,
   "metadata": {},
   "outputs": [],
   "source": [
    "#### Section 6: Vanilla RNN ###\n",
    "\n",
    "class VanillaRNN(nn.Module):\n",
    "    def __init__(self, vocab_size, embedding_dim, hidden_dim, output_dim, n_layers, \n",
    "                 bidirectional, dropout, pad_idx):\n",
    "        \n",
    "        super().__init__()\n",
    "        \n",
    "        self.embedding = nn.Embedding(vocab_size, embedding_dim, padding_idx = pad_idx)\n",
    "        \n",
    "        # Add your network's trainable layers here.\n",
    "        self.rnn = nn.RNN(embedding_dim, \n",
    "                          hidden_dim, \n",
    "                          num_layers=n_layers, \n",
    "                          bidirectional=bidirectional, \n",
    "                          dropout=dropout)\n",
    "    \n",
    "        self.fc1 = nn.Linear(hidden_dim, output_dim)\n",
    "        \n",
    "    def forward(self, text, text_lengths):\n",
    "        \n",
    "        #text = [sent len, batch size]\n",
    "        \n",
    " #        embedded = self.dropout(self.embedding(text))\n",
    "        embedded = self.embedding(text)\n",
    "        \n",
    "        #embedded = [sent len, batch size, emb dim]\n",
    "        \n",
    "        #pack sequence. Clambing the lengths to avoid errors in some bugs\n",
    "        packed_embedded = nn.utils.rnn.pack_padded_sequence(embedded, text_lengths.clamp(min=1, max=50))\n",
    "        \n",
    "        # now packed_embedded is the input to your model. You can do whatever you want to do from this point\n",
    "        packed_output, hidden = self.rnn(packed_embedded)\n",
    "        output = self.fc1(hidden[-1,:,:])\n",
    "\n",
    "        return output\n"
   ]
  },
  {
   "cell_type": "code",
   "execution_count": 192,
   "metadata": {},
   "outputs": [],
   "source": [
    "#### Section 7: Advanced Model ###\n",
    "\n",
    "class AdvancedModel(nn.Module):\n",
    "    def __init__(self, vocab_size, embedding_dim, hidden_dim, output_dim, n_layers, \n",
    "                 bidirectional, dropout, pad_idx):\n",
    "        \n",
    "        super().__init__()\n",
    "        \n",
    "        self.embedding = nn.Embedding(vocab_size, embedding_dim, padding_idx = pad_idx)\n",
    "        \n",
    "        # Add your network's trainable layers here.\n",
    "        self.rnn = nn.LSTM(embedding_dim, \n",
    "                           hidden_dim, \n",
    "                           num_layers=n_layers, \n",
    "                           bidirectional=bidirectional, \n",
    "                           dropout=dropout)\n",
    "        \n",
    "        self.fc1 = nn.Linear(hidden_dim * 2, hidden_dim)\n",
    "        \n",
    "        self.fc2 = nn.Linear(hidden_dim, output_dim)\n",
    "        \n",
    "        self.dropout = nn.Dropout(dropout)\n",
    "    \n",
    "        \n",
    "    def forward(self, text, text_lengths):\n",
    "        \n",
    "        #text = [sent len, batch size]\n",
    "        \n",
    "       # embedded = self.dropout(self.embedding(text))\n",
    "        embedded = self.embedding(text)\n",
    "        #embedded = [sent len, batch size, emb dim]\n",
    "        \n",
    "        #pack sequence. Clambing the lengths to avoid errors in some bugs\n",
    "        packed_embedded = nn.utils.rnn.pack_padded_sequence(embedded, text_lengths.clamp(min=1, max=50))\n",
    "        \n",
    "        # now packed_embedded is the input to your model. You can do whatever you want to do from this point\n",
    "        packed_output, (hidden, cell) = self.rnn(packed_embedded)\n",
    "        hidden = self.dropout(torch.cat((hidden[-2,:,:], hidden[-1,:,:]), dim = 1))\n",
    "        output = self.fc1(hidden)\n",
    "        output = self.dropout(self.fc2(output))\n",
    "                \n",
    "        #hidden = [batch size, hid dim * num directions]\n",
    "            \n",
    "        return output"
   ]
  },
  {
   "cell_type": "code",
   "execution_count": 126,
   "metadata": {},
   "outputs": [],
   "source": [
    "#### Section 8: Create your models ###\n",
    "### A.Vanilla RNN\n",
    "INPUT_DIM = len(TEXT.vocab)\n",
    "EMBEDDING_DIM = 100\n",
    "HIDDEN_DIM = 256\n",
    "OUTPUT_DIM = 3\n",
    "N_LAYERS = 2\n",
    "BIDIRECTIONAL = True\n",
    "DROPOUT = 0\n",
    "PAD_IDX = TEXT.vocab.stoi[TEXT.pad_token]\n",
    "\n",
    "model = VanillaRNN(INPUT_DIM, \n",
    "            EMBEDDING_DIM, \n",
    "            HIDDEN_DIM, \n",
    "            OUTPUT_DIM, \n",
    "            N_LAYERS, \n",
    "            BIDIRECTIONAL, \n",
    "            DROPOUT, \n",
    "            PAD_IDX)\n"
   ]
  },
  {
   "cell_type": "code",
   "execution_count": 193,
   "metadata": {},
   "outputs": [],
   "source": [
    "#### Section 8: Create your models ###\n",
    "### LSTM RNN\n",
    "INPUT_DIM = len(TEXT.vocab)\n",
    "EMBEDDING_DIM = 100\n",
    "HIDDEN_DIM = 256\n",
    "OUTPUT_DIM = 3\n",
    "N_LAYERS = 2\n",
    "BIDIRECTIONAL = True\n",
    "DROPOUT = 0\n",
    "PAD_IDX = TEXT.vocab.stoi[TEXT.pad_token]\n",
    "\n",
    "modelL = AdvancedModel(INPUT_DIM, \n",
    "            EMBEDDING_DIM, \n",
    "            HIDDEN_DIM, \n",
    "            OUTPUT_DIM, \n",
    "            N_LAYERS, \n",
    "            BIDIRECTIONAL, \n",
    "            DROPOUT, \n",
    "            PAD_IDX)\n"
   ]
  },
  {
   "cell_type": "code",
   "execution_count": 188,
   "metadata": {},
   "outputs": [
    {
     "name": "stdout",
     "output_type": "stream",
     "text": [
      "torch.Size([19272, 100])\n"
     ]
    },
    {
     "data": {
      "text/plain": [
       "tensor([[ 0.5856,  0.1937,  2.7073,  ..., -0.0805,  2.0212, -0.2180],\n",
       "        [ 0.9062, -0.6399, -2.0356,  ...,  0.2262,  0.2828, -1.4489],\n",
       "        [-0.3398,  0.2094,  0.4635,  ..., -0.2339,  0.4730, -0.0288],\n",
       "        ...,\n",
       "        [-0.3582, -1.1579, -0.1634,  ...,  0.5312, -0.8237, -0.3024],\n",
       "        [-0.1346,  1.4445,  0.0270,  ...,  0.1019, -0.3709, -0.7011],\n",
       "        [-0.5231,  1.1769, -0.6864,  ..., -0.2238, -1.0347,  0.8426]])"
      ]
     },
     "execution_count": 188,
     "metadata": {},
     "output_type": "execute_result"
    }
   ],
   "source": [
    "#### Section 9: Transfer pretrained weights for word embeddings from GloVe ###\n",
    "# Must be commented out if you are not using GloVe embeddings\n",
    "\n",
    "### Vanilla RNN\n",
    "\n",
    "pretrained_embeddings = TEXT.vocab.vectors\n",
    "print(pretrained_embeddings.shape)\n",
    "model.embedding.weight.data.copy_(pretrained_embeddings)"
   ]
  },
  {
   "cell_type": "code",
   "execution_count": 195,
   "metadata": {},
   "outputs": [
    {
     "name": "stdout",
     "output_type": "stream",
     "text": [
      "torch.Size([19272, 100])\n"
     ]
    },
    {
     "data": {
      "text/plain": [
       "tensor([[ 0.5856,  0.1937,  2.7073,  ..., -0.0805,  2.0212, -0.2180],\n",
       "        [ 0.9062, -0.6399, -2.0356,  ...,  0.2262,  0.2828, -1.4489],\n",
       "        [-0.3398,  0.2094,  0.4635,  ..., -0.2339,  0.4730, -0.0288],\n",
       "        ...,\n",
       "        [-0.3582, -1.1579, -0.1634,  ...,  0.5312, -0.8237, -0.3024],\n",
       "        [-0.1346,  1.4445,  0.0270,  ...,  0.1019, -0.3709, -0.7011],\n",
       "        [-0.5231,  1.1769, -0.6864,  ..., -0.2238, -1.0347,  0.8426]])"
      ]
     },
     "execution_count": 195,
     "metadata": {},
     "output_type": "execute_result"
    }
   ],
   "source": [
    "### B. LSTM RNN\n",
    "\n",
    "pretrained_embeddings = TEXT.vocab.vectors\n",
    "print(pretrained_embeddings.shape)\n",
    "modelL.embedding.weight.data.copy_(pretrained_embeddings)"
   ]
  },
  {
   "cell_type": "code",
   "execution_count": 189,
   "metadata": {},
   "outputs": [],
   "source": [
    "#### Section 10: Optimizer and Loss \n",
    "# Feel free to use any you want\n",
    "### Vanilla RNN\n",
    "optimizer = optim.Adam(model.parameters())\n",
    "\n",
    "#criterion = nn.NLLLoss()\n",
    "criterion = nn.CrossEntropyLoss()\n",
    "\n",
    "model = model.to(device)\n",
    "criterion = criterion.to(device)\n"
   ]
  },
  {
   "cell_type": "code",
   "execution_count": 196,
   "metadata": {},
   "outputs": [],
   "source": [
    "### LSTM RNN\n",
    "optimizer = optim.Adam(modelL.parameters())\n",
    "\n",
    "#criterion = nn.NLLLoss()\n",
    "criterion = nn.CrossEntropyLoss()\n",
    "\n",
    "modelL = modelL.to(device)\n",
    "criterion = criterion.to(device)\n"
   ]
  },
  {
   "cell_type": "code",
   "execution_count": 115,
   "metadata": {},
   "outputs": [],
   "source": [
    "def accuracy(preds, y):\n",
    "    \"\"\"\n",
    "    Returns accuracy per batch, i.e. if you get 8/10 right, this returns 0.8, NOT 8\n",
    "    \"\"\"\n",
    "    predictedLabel = torch.argmax(torch.exp(preds), dim=1)\n",
    "    correct = (predictedLabel == y).float() #convert into float for division \n",
    "    acc = correct.sum() / len(correct)\n",
    "    return acc"
   ]
  },
  {
   "cell_type": "code",
   "execution_count": 116,
   "metadata": {},
   "outputs": [],
   "source": [
    "#### Section 11: Training process\n",
    "# Feel free to change\n",
    "def train(model, iterator, optimizer, criterion):\n",
    "    \n",
    "    epoch_loss = 0\n",
    "    epoch_acc = 0\n",
    "    \n",
    "    model.train()\n",
    "    \n",
    "    for batch in iterator:\n",
    "        \n",
    "        optimizer.zero_grad()\n",
    "        \n",
    "        text, text_lengths = batch.t\n",
    "        \n",
    "        predictions = model(text, text_lengths).squeeze(1)\n",
    "        \n",
    "        loss = criterion(predictions, batch.l)\n",
    "        \n",
    "        acc = accuracy(predictions, batch.l)\n",
    "        \n",
    "        loss.backward()\n",
    "        \n",
    "        optimizer.step()\n",
    "        \n",
    "        epoch_loss += loss.item()\n",
    "        epoch_acc += acc.item()\n",
    "        \n",
    "    return epoch_loss / len(iterator), epoch_acc / len(iterator)"
   ]
  },
  {
   "cell_type": "code",
   "execution_count": 117,
   "metadata": {},
   "outputs": [],
   "source": [
    "#### Section 11: Evaluation process\n",
    "# Feel free to change\n",
    "def evaluate(model, iterator, criterion):\n",
    "    \n",
    "    epoch_loss = 0\n",
    "    epoch_acc = 0\n",
    "    \n",
    "    model.eval()\n",
    "    \n",
    "    with torch.no_grad():\n",
    "    \n",
    "        for batch in iterator:\n",
    "\n",
    "            text, text_lengths = batch.t\n",
    "            \n",
    "            predictions = model(text, text_lengths).squeeze(1)\n",
    "            \n",
    "            loss = criterion(predictions, batch.l)\n",
    "            \n",
    "            acc = accuracy(predictions, batch.l)\n",
    "\n",
    "            epoch_loss += loss.item()\n",
    "            epoch_acc += acc.item()\n",
    "        \n",
    "    return epoch_loss / len(iterator), epoch_acc / len(iterator)"
   ]
  },
  {
   "cell_type": "code",
   "execution_count": 118,
   "metadata": {},
   "outputs": [],
   "source": [
    "\n",
    "def epoch_time(start_time, end_time):\n",
    "    elapsed_time = end_time - start_time\n",
    "    elapsed_mins = int(elapsed_time / 60)\n",
    "    elapsed_secs = int(elapsed_time - (elapsed_mins * 60))\n",
    "    return elapsed_mins, elapsed_secs"
   ]
  },
  {
   "cell_type": "code",
   "execution_count": 190,
   "metadata": {},
   "outputs": [
    {
     "name": "stdout",
     "output_type": "stream",
     "text": [
      "Epoch: 01 | Epoch Time: 2m 10s\n",
      "\tTrain Loss: 0.707 | Train Acc: 70.46%\n",
      "\t Val. Loss: 0.662 |  Val. Acc: 72.47%\n",
      "Epoch: 02 | Epoch Time: 2m 9s\n",
      "\tTrain Loss: 0.611 | Train Acc: 74.57%\n",
      "\t Val. Loss: 0.617 |  Val. Acc: 74.17%\n",
      "Epoch: 03 | Epoch Time: 2m 8s\n",
      "\tTrain Loss: 0.549 | Train Acc: 77.62%\n",
      "\t Val. Loss: 0.617 |  Val. Acc: 75.03%\n",
      "Epoch: 04 | Epoch Time: 2m 9s\n",
      "\tTrain Loss: 0.516 | Train Acc: 79.35%\n",
      "\t Val. Loss: 0.603 |  Val. Acc: 75.61%\n",
      "Epoch: 05 | Epoch Time: 2m 17s\n",
      "\tTrain Loss: 0.492 | Train Acc: 80.28%\n",
      "\t Val. Loss: 0.613 |  Val. Acc: 75.72%\n",
      "Epoch: 06 | Epoch Time: 2m 20s\n",
      "\tTrain Loss: 0.467 | Train Acc: 81.58%\n",
      "\t Val. Loss: 0.621 |  Val. Acc: 76.25%\n",
      "Epoch: 07 | Epoch Time: 2m 23s\n",
      "\tTrain Loss: 0.449 | Train Acc: 82.52%\n",
      "\t Val. Loss: 0.619 |  Val. Acc: 75.93%\n",
      "Epoch: 08 | Epoch Time: 2m 25s\n",
      "\tTrain Loss: 0.437 | Train Acc: 82.90%\n",
      "\t Val. Loss: 0.610 |  Val. Acc: 76.06%\n",
      "Epoch: 09 | Epoch Time: 2m 25s\n",
      "\tTrain Loss: 0.422 | Train Acc: 83.72%\n",
      "\t Val. Loss: 0.611 |  Val. Acc: 76.57%\n",
      "Epoch: 10 | Epoch Time: 2m 22s\n",
      "\tTrain Loss: 0.406 | Train Acc: 84.35%\n",
      "\t Val. Loss: 0.624 |  Val. Acc: 75.99%\n",
      "Epoch: 11 | Epoch Time: 2m 22s\n",
      "\tTrain Loss: 0.402 | Train Acc: 84.53%\n",
      "\t Val. Loss: 0.648 |  Val. Acc: 76.04%\n",
      "Epoch: 12 | Epoch Time: 2m 24s\n",
      "\tTrain Loss: 0.384 | Train Acc: 85.40%\n",
      "\t Val. Loss: 0.657 |  Val. Acc: 76.31%\n",
      "Epoch: 13 | Epoch Time: 2m 26s\n",
      "\tTrain Loss: 0.382 | Train Acc: 85.43%\n",
      "\t Val. Loss: 0.652 |  Val. Acc: 75.43%\n",
      "Epoch: 14 | Epoch Time: 2m 26s\n",
      "\tTrain Loss: 0.372 | Train Acc: 85.99%\n",
      "\t Val. Loss: 0.678 |  Val. Acc: 75.69%\n",
      "Epoch: 15 | Epoch Time: 2m 29s\n",
      "\tTrain Loss: 0.367 | Train Acc: 86.21%\n",
      "\t Val. Loss: 0.640 |  Val. Acc: 76.13%\n",
      "Epoch: 16 | Epoch Time: 2m 30s\n",
      "\tTrain Loss: 0.362 | Train Acc: 86.41%\n",
      "\t Val. Loss: 0.630 |  Val. Acc: 75.51%\n",
      "Epoch: 17 | Epoch Time: 2m 29s\n",
      "\tTrain Loss: 0.351 | Train Acc: 86.89%\n",
      "\t Val. Loss: 0.684 |  Val. Acc: 75.76%\n",
      "Epoch: 18 | Epoch Time: 2m 26s\n",
      "\tTrain Loss: 0.347 | Train Acc: 87.07%\n",
      "\t Val. Loss: 0.689 |  Val. Acc: 75.82%\n",
      "Epoch: 19 | Epoch Time: 2m 27s\n",
      "\tTrain Loss: 0.348 | Train Acc: 87.01%\n",
      "\t Val. Loss: 0.673 |  Val. Acc: 75.71%\n",
      "Epoch: 20 | Epoch Time: 2m 27s\n",
      "\tTrain Loss: 0.340 | Train Acc: 87.30%\n",
      "\t Val. Loss: 0.714 |  Val. Acc: 74.48%\n",
      "Epoch: 21 | Epoch Time: 2m 26s\n",
      "\tTrain Loss: 0.342 | Train Acc: 87.23%\n",
      "\t Val. Loss: 0.686 |  Val. Acc: 75.65%\n",
      "Epoch: 22 | Epoch Time: 2m 21s\n",
      "\tTrain Loss: 0.340 | Train Acc: 87.44%\n",
      "\t Val. Loss: 0.698 |  Val. Acc: 74.96%\n",
      "Epoch: 23 | Epoch Time: 2m 8s\n",
      "\tTrain Loss: 0.338 | Train Acc: 87.57%\n",
      "\t Val. Loss: 0.682 |  Val. Acc: 75.09%\n",
      "Epoch: 24 | Epoch Time: 2m 7s\n",
      "\tTrain Loss: 0.333 | Train Acc: 87.69%\n",
      "\t Val. Loss: 0.680 |  Val. Acc: 75.52%\n",
      "Epoch: 25 | Epoch Time: 2m 8s\n",
      "\tTrain Loss: 0.328 | Train Acc: 88.05%\n",
      "\t Val. Loss: 0.690 |  Val. Acc: 74.91%\n",
      "Epoch: 26 | Epoch Time: 2m 7s\n",
      "\tTrain Loss: 0.325 | Train Acc: 88.15%\n",
      "\t Val. Loss: 0.696 |  Val. Acc: 75.48%\n",
      "Epoch: 27 | Epoch Time: 2m 7s\n",
      "\tTrain Loss: 0.320 | Train Acc: 88.29%\n",
      "\t Val. Loss: 0.707 |  Val. Acc: 75.83%\n",
      "Epoch: 28 | Epoch Time: 2m 9s\n",
      "\tTrain Loss: 0.317 | Train Acc: 88.38%\n",
      "\t Val. Loss: 0.694 |  Val. Acc: 75.60%\n",
      "Epoch: 29 | Epoch Time: 2m 7s\n",
      "\tTrain Loss: 0.316 | Train Acc: 88.34%\n",
      "\t Val. Loss: 0.755 |  Val. Acc: 75.02%\n",
      "Epoch: 30 | Epoch Time: 2m 8s\n",
      "\tTrain Loss: 0.319 | Train Acc: 88.23%\n",
      "\t Val. Loss: 0.730 |  Val. Acc: 75.35%\n",
      "Epoch: 31 | Epoch Time: 2m 8s\n",
      "\tTrain Loss: 0.309 | Train Acc: 88.90%\n",
      "\t Val. Loss: 0.738 |  Val. Acc: 75.70%\n",
      "Epoch: 32 | Epoch Time: 2m 8s\n",
      "\tTrain Loss: 0.309 | Train Acc: 88.66%\n",
      "\t Val. Loss: 0.729 |  Val. Acc: 75.00%\n",
      "Epoch: 33 | Epoch Time: 2m 8s\n",
      "\tTrain Loss: 0.305 | Train Acc: 88.91%\n",
      "\t Val. Loss: 0.728 |  Val. Acc: 75.43%\n",
      "Epoch: 34 | Epoch Time: 2m 9s\n",
      "\tTrain Loss: 0.303 | Train Acc: 88.97%\n",
      "\t Val. Loss: 0.710 |  Val. Acc: 75.23%\n",
      "Epoch: 35 | Epoch Time: 2m 12s\n",
      "\tTrain Loss: 0.301 | Train Acc: 89.08%\n",
      "\t Val. Loss: 0.737 |  Val. Acc: 75.36%\n",
      "Epoch: 36 | Epoch Time: 2m 9s\n",
      "\tTrain Loss: 0.301 | Train Acc: 89.05%\n",
      "\t Val. Loss: 0.749 |  Val. Acc: 75.55%\n",
      "Epoch: 37 | Epoch Time: 2m 19s\n",
      "\tTrain Loss: 0.302 | Train Acc: 89.02%\n",
      "\t Val. Loss: 0.727 |  Val. Acc: 74.66%\n",
      "Epoch: 38 | Epoch Time: 2m 11s\n",
      "\tTrain Loss: 0.299 | Train Acc: 89.22%\n",
      "\t Val. Loss: 0.751 |  Val. Acc: 75.51%\n",
      "Epoch: 39 | Epoch Time: 2m 13s\n",
      "\tTrain Loss: 0.297 | Train Acc: 89.34%\n",
      "\t Val. Loss: 0.748 |  Val. Acc: 75.30%\n",
      "Epoch: 40 | Epoch Time: 2m 14s\n",
      "\tTrain Loss: 0.299 | Train Acc: 89.15%\n",
      "\t Val. Loss: 0.769 |  Val. Acc: 74.79%\n",
      "Epoch: 41 | Epoch Time: 2m 14s\n",
      "\tTrain Loss: 0.297 | Train Acc: 89.21%\n",
      "\t Val. Loss: 0.740 |  Val. Acc: 75.40%\n",
      "Epoch: 42 | Epoch Time: 2m 19s\n",
      "\tTrain Loss: 0.296 | Train Acc: 89.18%\n",
      "\t Val. Loss: 0.754 |  Val. Acc: 75.44%\n",
      "Epoch: 43 | Epoch Time: 2m 19s\n",
      "\tTrain Loss: 0.296 | Train Acc: 89.26%\n",
      "\t Val. Loss: 0.799 |  Val. Acc: 74.33%\n",
      "Epoch: 44 | Epoch Time: 2m 18s\n",
      "\tTrain Loss: 0.294 | Train Acc: 89.36%\n",
      "\t Val. Loss: 0.754 |  Val. Acc: 74.45%\n",
      "Epoch: 45 | Epoch Time: 2m 21s\n",
      "\tTrain Loss: 0.295 | Train Acc: 89.30%\n",
      "\t Val. Loss: 0.777 |  Val. Acc: 75.41%\n",
      "Epoch: 46 | Epoch Time: 2m 22s\n",
      "\tTrain Loss: 0.295 | Train Acc: 89.38%\n",
      "\t Val. Loss: 0.740 |  Val. Acc: 75.21%\n",
      "Epoch: 47 | Epoch Time: 2m 23s\n",
      "\tTrain Loss: 0.289 | Train Acc: 89.60%\n",
      "\t Val. Loss: 0.807 |  Val. Acc: 75.01%\n",
      "Epoch: 48 | Epoch Time: 2m 24s\n",
      "\tTrain Loss: 0.284 | Train Acc: 89.78%\n",
      "\t Val. Loss: 0.781 |  Val. Acc: 75.21%\n",
      "Epoch: 49 | Epoch Time: 2m 21s\n",
      "\tTrain Loss: 0.288 | Train Acc: 89.59%\n",
      "\t Val. Loss: 0.759 |  Val. Acc: 74.54%\n",
      "Epoch: 50 | Epoch Time: 2m 20s\n",
      "\tTrain Loss: 0.288 | Train Acc: 89.66%\n",
      "\t Val. Loss: 0.765 |  Val. Acc: 74.89%\n"
     ]
    }
   ],
   "source": [
    "#### Section 12: Train\n",
    "\n",
    "# You need to change this name for each model.\n",
    "t1 = time.time()\n",
    "loss1=[]\n",
    "acc1=[]\n",
    "val_acc1=[]\n",
    "modelOutputName = 'vanilla-rnn.pt'\n",
    "\n",
    "N_EPOCHS = 50\n",
    "\n",
    "best_valid_loss = float('inf')\n",
    "\n",
    "for epoch in range(N_EPOCHS):\n",
    "\n",
    "    start_time = time.time()\n",
    "    \n",
    "    train_loss, train_acc = train(model, train_iterator, optimizer, criterion)\n",
    "    valid_loss, valid_acc = evaluate(model, valid_iterator, criterion)\n",
    "    \n",
    "    end_time = time.time()\n",
    "\n",
    "    epoch_mins, epoch_secs = epoch_time(start_time, end_time)\n",
    "    \n",
    "    if valid_loss < best_valid_loss:\n",
    "        best_valid_loss = valid_loss\n",
    "        torch.save(model.state_dict(), modelOutputName)\n",
    "    loss1.append(train_loss)\n",
    "    acc1.append(train_acc)\n",
    "    val_acc1.append(valid_acc)\n",
    "    \n",
    "    print(f'Epoch: {epoch+1:02} | Epoch Time: {epoch_mins}m {epoch_secs}s')\n",
    "    print(f'\\tTrain Loss: {train_loss:.3f} | Train Acc: {train_acc*100:.2f}%')\n",
    "    print(f'\\t Val. Loss: {valid_loss:.3f} |  Val. Acc: {valid_acc*100:.2f}%')"
   ]
  },
  {
   "cell_type": "code",
   "execution_count": 197,
   "metadata": {
    "scrolled": true
   },
   "outputs": [
    {
     "name": "stdout",
     "output_type": "stream",
     "text": [
      "Epoch: 01 | Epoch Time: 7m 14s\n",
      "\tTrain Loss: 0.630 | Train Acc: 73.47%\n",
      "\t Val. Loss: 0.553 |  Val. Acc: 77.19%\n",
      "Epoch: 02 | Epoch Time: 8m 10s\n",
      "\tTrain Loss: 0.506 | Train Acc: 79.35%\n",
      "\t Val. Loss: 0.533 |  Val. Acc: 77.77%\n",
      "Epoch: 03 | Epoch Time: 8m 52s\n",
      "\tTrain Loss: 0.424 | Train Acc: 83.13%\n",
      "\t Val. Loss: 0.565 |  Val. Acc: 77.96%\n",
      "Epoch: 04 | Epoch Time: 9m 15s\n",
      "\tTrain Loss: 0.341 | Train Acc: 86.69%\n",
      "\t Val. Loss: 0.575 |  Val. Acc: 77.38%\n",
      "Epoch: 05 | Epoch Time: 8m 39s\n",
      "\tTrain Loss: 0.256 | Train Acc: 90.41%\n",
      "\t Val. Loss: 0.730 |  Val. Acc: 77.01%\n",
      "Epoch: 06 | Epoch Time: 7m 13s\n",
      "\tTrain Loss: 0.180 | Train Acc: 93.31%\n",
      "\t Val. Loss: 0.808 |  Val. Acc: 77.41%\n",
      "Epoch: 07 | Epoch Time: 7m 18s\n",
      "\tTrain Loss: 0.120 | Train Acc: 95.59%\n",
      "\t Val. Loss: 1.145 |  Val. Acc: 76.76%\n",
      "Epoch: 08 | Epoch Time: 7m 23s\n",
      "\tTrain Loss: 0.080 | Train Acc: 97.04%\n",
      "\t Val. Loss: 1.293 |  Val. Acc: 77.00%\n",
      "Epoch: 09 | Epoch Time: 10m 23s\n",
      "\tTrain Loss: 0.057 | Train Acc: 98.00%\n",
      "\t Val. Loss: 1.603 |  Val. Acc: 76.16%\n",
      "Epoch: 10 | Epoch Time: 9m 53s\n",
      "\tTrain Loss: 0.046 | Train Acc: 98.34%\n",
      "\t Val. Loss: 1.599 |  Val. Acc: 75.79%\n",
      "Epoch: 11 | Epoch Time: 10m 26s\n",
      "\tTrain Loss: 0.037 | Train Acc: 98.69%\n",
      "\t Val. Loss: 1.812 |  Val. Acc: 76.84%\n",
      "Epoch: 12 | Epoch Time: 10m 1s\n",
      "\tTrain Loss: 0.030 | Train Acc: 98.95%\n",
      "\t Val. Loss: 1.805 |  Val. Acc: 77.23%\n",
      "Epoch: 13 | Epoch Time: 9m 53s\n",
      "\tTrain Loss: 0.028 | Train Acc: 99.07%\n",
      "\t Val. Loss: 1.951 |  Val. Acc: 76.77%\n",
      "Epoch: 14 | Epoch Time: 13m 20s\n",
      "\tTrain Loss: 0.024 | Train Acc: 99.20%\n",
      "\t Val. Loss: 1.981 |  Val. Acc: 76.42%\n",
      "Epoch: 15 | Epoch Time: 8m 18s\n",
      "\tTrain Loss: 0.023 | Train Acc: 99.22%\n",
      "\t Val. Loss: 2.114 |  Val. Acc: 76.87%\n",
      "Epoch: 16 | Epoch Time: 8m 22s\n",
      "\tTrain Loss: 0.019 | Train Acc: 99.31%\n",
      "\t Val. Loss: 2.235 |  Val. Acc: 76.57%\n",
      "Epoch: 17 | Epoch Time: 8m 42s\n",
      "\tTrain Loss: 0.020 | Train Acc: 99.28%\n",
      "\t Val. Loss: 2.066 |  Val. Acc: 76.29%\n",
      "Epoch: 18 | Epoch Time: 8m 57s\n",
      "\tTrain Loss: 0.020 | Train Acc: 99.32%\n",
      "\t Val. Loss: 1.901 |  Val. Acc: 76.92%\n",
      "Epoch: 19 | Epoch Time: 8m 54s\n",
      "\tTrain Loss: 0.017 | Train Acc: 99.42%\n",
      "\t Val. Loss: 2.028 |  Val. Acc: 76.35%\n",
      "Epoch: 20 | Epoch Time: 8m 55s\n",
      "\tTrain Loss: 0.016 | Train Acc: 99.44%\n",
      "\t Val. Loss: 2.179 |  Val. Acc: 76.76%\n",
      "Epoch: 21 | Epoch Time: 8m 58s\n",
      "\tTrain Loss: 0.017 | Train Acc: 99.41%\n",
      "\t Val. Loss: 1.950 |  Val. Acc: 76.67%\n",
      "Epoch: 22 | Epoch Time: 9m 30s\n",
      "\tTrain Loss: 0.014 | Train Acc: 99.51%\n",
      "\t Val. Loss: 2.210 |  Val. Acc: 75.97%\n",
      "Epoch: 23 | Epoch Time: 9m 5s\n",
      "\tTrain Loss: 0.016 | Train Acc: 99.43%\n",
      "\t Val. Loss: 2.067 |  Val. Acc: 76.69%\n",
      "Epoch: 24 | Epoch Time: 8m 50s\n",
      "\tTrain Loss: 0.014 | Train Acc: 99.48%\n",
      "\t Val. Loss: 2.285 |  Val. Acc: 77.13%\n",
      "Epoch: 25 | Epoch Time: 9m 4s\n",
      "\tTrain Loss: 0.011 | Train Acc: 99.59%\n",
      "\t Val. Loss: 2.405 |  Val. Acc: 76.92%\n",
      "Epoch: 26 | Epoch Time: 8m 50s\n",
      "\tTrain Loss: 0.015 | Train Acc: 99.49%\n",
      "\t Val. Loss: 2.003 |  Val. Acc: 75.99%\n",
      "Epoch: 27 | Epoch Time: 8m 25s\n",
      "\tTrain Loss: 0.012 | Train Acc: 99.54%\n",
      "\t Val. Loss: 2.214 |  Val. Acc: 76.97%\n",
      "Epoch: 28 | Epoch Time: 8m 15s\n",
      "\tTrain Loss: 0.013 | Train Acc: 99.56%\n",
      "\t Val. Loss: 2.219 |  Val. Acc: 76.36%\n",
      "Epoch: 29 | Epoch Time: 8m 16s\n",
      "\tTrain Loss: 0.009 | Train Acc: 99.70%\n",
      "\t Val. Loss: 2.360 |  Val. Acc: 76.93%\n",
      "Epoch: 30 | Epoch Time: 8m 16s\n",
      "\tTrain Loss: 0.011 | Train Acc: 99.60%\n",
      "\t Val. Loss: 2.168 |  Val. Acc: 76.91%\n"
     ]
    }
   ],
   "source": [
    "#### Section 12: Train\n",
    "\n",
    "# You need to change this name for each model.\n",
    "t2 = time.time()\n",
    "loss2=[]\n",
    "acc2=[]\n",
    "val_acc2=[]\n",
    "modelOutputName = 'LSTM-rnn.pt'\n",
    "\n",
    "N_EPOCHS = 30\n",
    "\n",
    "best_valid_loss = float('inf')\n",
    "\n",
    "for epoch in range(N_EPOCHS):\n",
    "\n",
    "    start_time = time.time()\n",
    "    \n",
    "    train_loss, train_acc = train(modelL, train_iterator, optimizer, criterion)\n",
    "    valid_loss, valid_acc = evaluate(modelL, valid_iterator, criterion)\n",
    "     \n",
    "    end_time = time.time()\n",
    "\n",
    "    epoch_mins, epoch_secs = epoch_time(start_time, end_time)\n",
    "    \n",
    "    if valid_loss < best_valid_loss:\n",
    "        best_valid_loss = valid_loss\n",
    "        torch.save(modelL.state_dict(), modelOutputName)\n",
    "    loss2.append(train_loss)\n",
    "    acc2.append(train_acc)\n",
    "    val_acc2.append(valid_acc)\n",
    "    \n",
    "    print(f'Epoch: {epoch+1:02} | Epoch Time: {epoch_mins}m {epoch_secs}s')\n",
    "    print(f'\\t Train Loss: {train_loss:.3f} | Train Acc: {train_acc*100:.2f}%')\n",
    "    print(f'\\t Val. Loss: {valid_loss:.3f} |  Val. Acc: {valid_acc*100:.2f}%')"
   ]
  },
  {
   "cell_type": "markdown",
   "metadata": {},
   "source": [
    "Since I used MacBook to run the code, it was so slowly. I don't have enough time to run 50 epochs, so I used epoch = 30"
   ]
  },
  {
   "cell_type": "code",
   "execution_count": 191,
   "metadata": {},
   "outputs": [
    {
     "data": {
      "text/plain": [
       "<function matplotlib.pyplot.show(close=None, block=None)>"
      ]
     },
     "execution_count": 191,
     "metadata": {},
     "output_type": "execute_result"
    },
    {
     "data": {
      "image/png": "[encoded data removed]",
      "text/plain": [
       "<Figure size 432x288 with 1 Axes>"
      ]
     },
     "metadata": {
      "needs_background": "light"
     },
     "output_type": "display_data"
    }
   ],
   "source": [
    "#### Section 13: Plots\n",
    "plt.xlabel(\"runs\")\n",
    "plt.ylabel(\"normalised measure of loss/accuracy\")\n",
    "x_len=list(range(len(acc1)))\n",
    "plt.axis([0, max(x_len), 0, 1])\n",
    "plt.title('result of Vanilla')\n",
    "loss=np.asarray(loss1)/max(loss1)\n",
    "plt.plot(x_len, loss1, 'r.',label=\"loss\")\n",
    "plt.plot(x_len, acc1, 'b.', label=\"accuracy\")\n",
    "plt.plot(x_len, val_acc1, 'g.', label=\"val_accuracy\")\n",
    "plt.legend(bbox_to_anchor=(1.05, 1), loc=2, borderaxespad=0.2)\n",
    "plt.show"
   ]
  },
  {
   "cell_type": "code",
   "execution_count": 198,
   "metadata": {},
   "outputs": [
    {
     "data": {
      "text/plain": [
       "<function matplotlib.pyplot.show(close=None, block=None)>"
      ]
     },
     "execution_count": 198,
     "metadata": {},
     "output_type": "execute_result"
    },
    {
     "data": {
      "image/png": "[encoded data removed]",
      "text/plain": [
       "<Figure size 432x288 with 1 Axes>"
      ]
     },
     "metadata": {
      "needs_background": "light"
     },
     "output_type": "display_data"
    }
   ],
   "source": [
    "plt.xlabel(\"runs\")\n",
    "plt.ylabel(\"normalised measure of loss/accuracy\")\n",
    "x_len=list(range(len(acc2)))\n",
    "plt.axis([0, max(x_len), 0, 1])\n",
    "plt.title('result of LSTM')\n",
    "loss=np.asarray(loss2)/max(loss2)\n",
    "plt.plot(x_len, loss2, 'r.',label=\"loss\")\n",
    "plt.plot(x_len, acc2, 'b.', label=\"accuracy\")\n",
    "plt.plot(x_len, val_acc2, 'g.', label=\"val_accuracy\")\n",
    "plt.legend(bbox_to_anchor=(1.05, 1), loc=2, borderaxespad=0.2)\n",
    "plt.show"
   ]
  },
  {
   "cell_type": "code",
   "execution_count": 165,
   "metadata": {},
   "outputs": [],
   "source": [
    "#### Section 14: Test Code\n",
    "\n",
    "# 1. Load a saved model\n",
    "# 2. evaluate against the validation set (you will need to create )\n"
   ]
  },
  {
   "cell_type": "code",
   "execution_count": 199,
   "metadata": {},
   "outputs": [],
   "source": [
    "model_name = 'vanillaRNN_model.sav'\n",
    "pickle.dump(model, open(model_name, 'wb'))"
   ]
  },
  {
   "cell_type": "code",
   "execution_count": 200,
   "metadata": {},
   "outputs": [],
   "source": [
    "modelL_name = 'LSTM_model.sav'\n",
    "pickle.dump(modelL, open(modelL_name, 'wb'))"
   ]
  },
  {
   "cell_type": "code",
   "execution_count": 201,
   "metadata": {},
   "outputs": [
    {
     "name": "stdout",
     "output_type": "stream",
     "text": [
      "Test. Acc: 82.70%\n"
     ]
    }
   ],
   "source": [
    "\n",
    "# load the model from disk\n",
    "model_name = 'vanillaRNN_model.sav'\n",
    "#model_name = 'LSTM_model.sav' # We can switch model \n",
    "\n",
    "loaded_model = pickle.load(open(model_name, 'rb'))\n",
    "\n",
    "# reading test data\n",
    "#file_name = 'large-clean-test.json'\n",
    "test_data = data.TabularDataset(\n",
    "            path = dataFolder+'/'+file_name, \n",
    "            #test = file_name, #e.g. file_name = 'large-clean-test.json'\n",
    "            format = 'json', # json file\n",
    "            fields = fields)\n",
    "# processing test data \n",
    "test_iterator = data.BucketIterator(\n",
    "    test_data, \n",
    "    sort = False, \n",
    "    batch_size = BATCH_SIZE,\n",
    "    sort_within_batch = True,\n",
    "    sort_key = lambda x: len(x.t),\n",
    "    device = device)\n",
    "# evaluate against test data\n",
    "test_loss, test_acc = evaluate(loaded_model,test_iterator,criterion)\n",
    "print(f'Test. Acc: {test_acc*100:.2f}%')"
   ]
  },
  {
   "cell_type": "code",
   "execution_count": 149,
   "metadata": {},
   "outputs": [],
   "source": [
    "#### Section 15: Application\n",
    "def predict_sentiment(model, sentence):\n",
    "    model.eval()\n",
    "    tokenized = [tok.text for tok in nlp.tokenizer(sentence)]\n",
    "    indexed = [TEXT.vocab.stoi[t] for t in tokenized]\n",
    "    length = [len(indexed)]\n",
    "    tensor = torch.LongTensor(indexed).to(device)\n",
    "    tensor = tensor.unsqueeze(1)\n",
    "    length_tensor = torch.LongTensor(length)\n",
    "    print(model(tensor, length_tensor))\n",
    "    \n",
    "    prediction = torch.argmax(torch.exp(model(tensor, length_tensor)), dim=1)\n",
    "    return LABEL.vocab.itos[prediction.item()]"
   ]
  },
  {
   "cell_type": "code",
   "execution_count": 151,
   "metadata": {},
   "outputs": [
    {
     "name": "stdout",
     "output_type": "stream",
     "text": [
      "tensor([[-3.4553,  3.5597, -0.1363]], grad_fn=<AddmmBackward>)\n"
     ]
    },
    {
     "data": {
      "text/plain": [
       "'bad'"
      ]
     },
     "execution_count": 151,
     "metadata": {},
     "output_type": "execute_result"
    }
   ],
   "source": [
    "predict_sentiment(model, \"This film is terrible\")"
   ]
  },
  {
   "cell_type": "code",
   "execution_count": 152,
   "metadata": {},
   "outputs": [
    {
     "name": "stdout",
     "output_type": "stream",
     "text": [
      "tensor([[  7.5712, -11.5704,   3.9762]], grad_fn=<AddmmBackward>)\n"
     ]
    },
    {
     "data": {
      "text/plain": [
       "'good'"
      ]
     },
     "execution_count": 152,
     "metadata": {},
     "output_type": "execute_result"
    }
   ],
   "source": [
    "predict_sentiment(modelL, \"This film is great\")"
   ]
  }
 ],
 "metadata": {
  "kernelspec": {
   "display_name": "Python 3",
   "language": "python",
   "name": "python3"
  },
  "language_info": {
   "codemirror_mode": {
    "name": "ipython",
    "version": 3
   },
   "file_extension": ".py",
   "mimetype": "text/x-python",
   "name": "python",
   "nbconvert_exporter": "python",
   "pygments_lexer": "ipython3",
   "version": "3.7.6"
  }
 },
 "nbformat": 4,
 "nbformat_minor": 2
}
